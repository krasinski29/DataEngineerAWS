{
 "cells": [
  {
   "cell_type": "code",
   "execution_count": null,
   "metadata": {},
   "outputs": [],
   "source": [
    "import boto3\n",
    "import configparser\n",
    "#import matplotlib.pyplot as plt\n",
    "import pandas as pd\n",
    "from time import time\n",
    "import psycopg2"
   ]
  },
  {
   "cell_type": "code",
   "execution_count": null,
   "metadata": {},
   "outputs": [],
   "source": [
    "config = configparser.ConfigParser()\n",
    "config.read_file(open('dwh.cfg'))\n",
    "\n",
    "KEY=config.get('AWS','key')\n",
    "SECRET=config.get('AWS','secret')\n",
    "REGION=config.get('AWS','REGION')\n",
    "\n",
    "DWH_DB=config.get(\"DWH\",\"DWH_DB\")\n",
    "DWH_DB_USER=config.get(\"DWH\",\"DWH_DB_USER\")\n",
    "DWH_DB_PASSWORD=config.get(\"DWH\",\"DWH_DB_PASSWORD\")\n",
    "DWH_PORT=config.get(\"DWH\",\"DWH_PORT\")\n",
    "\n",
    "DWH_ROLE_ARN=config.get(\"DWH\",\"DWH_ROLE_ARN\")\n",
    "DWH_ENDPOINT=config.get(\"DWH\",\"DWH_ENDPOINT\")\n"
   ]
  },
  {
   "cell_type": "code",
   "execution_count": null,
   "metadata": {},
   "outputs": [],
   "source": [
    "#Create connection\n",
    "\n",
    "conn = psycopg2.connect(\n",
    "    host=DWH_ENDPOINT,\n",
    "    dbname=DWH_DB,\n",
    "    user=DWH_DB_USER,\n",
    "    password=DWH_DB_PASSWORD,\n",
    "    port=DWH_PORT\n",
    ")\n",
    "print(\"Connection successful!\")\n",
    "\n",
    "cur = conn.cursor()\n",
    "\n",
    "def execute_query(query, params=None):\n",
    "    try:\n",
    "        if params:\n",
    "            cur.execute(query, params)\n",
    "        else:\n",
    "            cur.execute(query)\n",
    "        conn.commit()\n",
    "        print(\"Query executed successfully\")\n",
    "        return cur.fetchall()\n",
    "    except Exception as e:\n",
    "        print(f\"An error occurred: {e}\")\n",
    "        conn.rollback()\n",
    "        return None\n"
   ]
  },
  {
   "cell_type": "code",
   "execution_count": null,
   "metadata": {},
   "outputs": [],
   "source": [
    "s3 = boto3.resource('s3', region_name=REGION, aws_access_key_id=KEY, aws_secret_access_key=SECRET)\n",
    "sampleDbBucket=s3.Bucket(\"udacity-labs\")\n",
    "for obj in sampleDbBucket.objects.filter(Prefix=\"tickets\"):\n",
    "    print(obj)\n"
   ]
  },
  {
   "cell_type": "code",
   "execution_count": null,
   "metadata": {},
   "outputs": [],
   "source": [
    "create_ticket_table = \"\"\"\n",
    "DROP TABLE IF EXISTS \"sporting_event_ticket\";\n",
    "\n",
    "CREATE TABLE \"sporting_event_ticket\" (\n",
    "    \"id\" double precision DEFAULT nextval('sporting_event_ticket_seq') NOT NULL,\n",
    "    \"sporting_event_id\" double precision NOT NULL,\n",
    "    \"sport_location_id\" double precision NOT NULL,\n",
    "    \"seat_level\" numeric(1,0) NOT NULL,\n",
    "    \"seat_section\" character varying(15) NOT NULL,\n",
    "    \"seat_row\" character varying(10) NOT NULL,\n",
    "    \"seat\" character varying(10) NOT NULL,\n",
    "    \"ticketholder_id\" double precision,\n",
    "    \"ticket_price\" numeric(8,2) NOT NULL\n",
    ");\n",
    "\"\"\"\n",
    "\n",
    "result = execute_query(create_ticket_table)\n",
    "print(result)"
   ]
  },
  {
   "cell_type": "code",
   "execution_count": null,
   "metadata": {},
   "outputs": [],
   "source": [
    "load_partition_data = f\"\"\"\n",
    "\n",
    "    COPY sporting_event_ticket FROM 's3://udacity-labs/tickets/split/part'\n",
    "    credentials 'aws_iam_role={DWH_ROLE_ARN}' gzip DELIMITER ';' region '{REGION}';\n",
    "\"\"\"\n",
    "\n",
    "result = execute_query(load_partition_data)\n",
    "print(result)"
   ]
  },
  {
   "cell_type": "code",
   "execution_count": null,
   "metadata": {},
   "outputs": [],
   "source": [
    "create_full_tickets_table = \"\"\"\n",
    "DROP TABLE IF EXISTS \"sporting_event_ticket_full\";\n",
    "\n",
    "CREATE TABLE \"sporting_event_ticket_full\" (\n",
    "    \"id\" double precision DEFAULT nextval('sporting_event_ticket_seq') NOT NULL,\n",
    "    \"sporting_event_id\" double precision NOT NULL,\n",
    "    \"sport_location_id\" double precision NOT NULL,\n",
    "    \"seat_level\" numeric(1,0) NOT NULL,\n",
    "    \"seat_section\" character varying(15) NOT NULL,\n",
    "    \"seat_row\" character varying(10) NOT NULL,\n",
    "    \"seat\" character varying(10) NOT NULL,\n",
    "    \"ticketholder_id\" double precision,\n",
    "    \"ticket_price\" numeric(8,2) NOT NULL\n",
    ");\n",
    "\"\"\"\n",
    "\n",
    "result = execute_query(create_full_tickets_table)\n",
    "print(result)"
   ]
  },
  {
   "cell_type": "code",
   "execution_count": null,
   "metadata": {},
   "outputs": [],
   "source": [
    "load_full_data = f\"\"\"\n",
    "    copy sporting_event_ticket_full from 's3://udacity-labs/tickets/full/full.csv.gz' \n",
    "    credentials 'aws_iam_role={DWH_ROLE_ARN}' \n",
    "    gzip delimiter ';' region 'us-west-2'\n",
    "    \"\"\"\n",
    "    \n",
    "result = execute_query(load_full_data)\n",
    "print(result)"
   ]
  }
 ],
 "metadata": {
  "kernelspec": {
   "display_name": "data-eng-env",
   "language": "python",
   "name": "python3"
  },
  "language_info": {
   "codemirror_mode": {
    "name": "ipython",
    "version": 3
   },
   "file_extension": ".py",
   "mimetype": "text/x-python",
   "name": "python",
   "nbconvert_exporter": "python",
   "pygments_lexer": "ipython3",
   "version": "3.9.6"
  }
 },
 "nbformat": 4,
 "nbformat_minor": 2
}
