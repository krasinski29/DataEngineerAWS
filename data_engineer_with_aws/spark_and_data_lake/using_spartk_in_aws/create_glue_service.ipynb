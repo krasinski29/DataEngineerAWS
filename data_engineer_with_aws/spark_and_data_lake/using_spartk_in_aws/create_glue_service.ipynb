{
 "cells": [
  {
   "cell_type": "code",
   "execution_count": 1,
   "metadata": {},
   "outputs": [],
   "source": [
    "import boto3\n",
    "import json\n",
    "import configparser\n",
    "from aws_policy.policy import s3_access, glue_access"
   ]
  },
  {
   "cell_type": "code",
   "execution_count": 2,
   "metadata": {},
   "outputs": [],
   "source": [
    "config = configparser.ConfigParser()\n",
    "config.read_file(open('/Users/andrekrasinski/Documents/GitHub/DataEngineerAWS/dwh.cfg'))\n",
    "\n",
    "KEY    = config.get('AWS','KEY')\n",
    "SECRET = config.get('AWS','SECRET')\n",
    "REGION = config.get('AWS','REGION')\n",
    "TOKEN  = config.get('AWS','TOKEN')\n",
    "\n",
    "EC2_IAM_ROLE_NAME = config.get(\"EC2\", \"EC2_IAM_ROLE_NAME\")\n",
    "\n",
    "EC2_VPC_ID = config.get(\"EC2\", \"EC2_VPC_ID\")\n",
    "EC2_ROUTE_TABLE_ID = config.get(\"EC2\", \"EC2_ROUTE_TABLE_ID\")\n",
    "\n",
    "\n",
    "\n"
   ]
  },
  {
   "cell_type": "code",
   "execution_count": 4,
   "metadata": {},
   "outputs": [],
   "source": [
    "#Criando s3 resource -- Resource provides a higher-level, object-oriented interface\n",
    "s3 = boto3.resource(\n",
    "    's3', \n",
    "    region_name=REGION, \n",
    "    aws_access_key_id=KEY, \n",
    "    aws_secret_access_key=SECRET,\n",
    "    aws_session_token=TOKEN\n",
    ")\n",
    "\n",
    "#Criando ec2 client -- Client provides low-level access to AWS service operations\n",
    "ec2 = boto3.client(\n",
    "    'ec2', \n",
    "    region_name=REGION, \n",
    "    aws_access_key_id=KEY, \n",
    "    aws_secret_access_key=SECRET, \n",
    "    aws_session_token=TOKEN\n",
    ")\n",
    "\n",
    "#Criando IAM client\n",
    "iam = boto3.client(\n",
    "    'iam', \n",
    "    region_name=REGION, \n",
    "    aws_access_key_id=KEY, \n",
    "    aws_secret_access_key=SECRET, \n",
    "    aws_session_token=TOKEN\n",
    ")\n"
   ]
  },
  {
   "cell_type": "code",
   "execution_count": null,
   "metadata": {},
   "outputs": [],
   "source": [
    "#Criando bucket no s3\n",
    "\n",
    "createBucket = s3.create_bucket(\n",
    "    Bucket=\"krasinski-udacity-1\",\n",
    "    CreateBucketConfiguration={'LocationConstraint': 'us-west-2'}\n",
    ")"
   ]
  },
  {
   "cell_type": "code",
   "execution_count": null,
   "metadata": {},
   "outputs": [],
   "source": [
    "#Gerando a descrição da Virtual Private Cloud (VPC) para pegar o VPC ID\n",
    "VpcDescribeEndpoint = ec2.describe_vpcs()\n",
    "print(VpcDescribeEndpoint)"
   ]
  },
  {
   "cell_type": "code",
   "execution_count": null,
   "metadata": {},
   "outputs": [],
   "source": [
    "#Gerando a descrição da Route Tables para pegar o RouteTableID para configurar com VPC Gateway. \n",
    "describeRouteTables= ec2.describe_route_tables()\n",
    "print(describeRouteTables)"
   ]
  },
  {
   "cell_type": "code",
   "execution_count": null,
   "metadata": {},
   "outputs": [],
   "source": [
    "createVpcEndpoint = ec2.create_vpc_endpoint(\n",
    "    VpcId=EC2_VPC_ID,\n",
    "    ServiceName=f'com.amazonaws.{REGION}.s3',\n",
    "    RouteTableIds=[EC2_ROUTE_TABLE_ID]        \n",
    ")\n",
    "\n",
    "print(createVpcEndpoint)"
   ]
  },
  {
   "cell_type": "code",
   "execution_count": null,
   "metadata": {},
   "outputs": [],
   "source": [
    "try:\n",
    "    print(\"1.1 Creating a new IAM Role\")\n",
    "    dwhRole = iam.create_role(\n",
    "        RoleName=EC2_IAM_ROLE_NAME,\n",
    "        Description = \"Allows Glue service to call AWS services on your behalf.\",\n",
    "        AssumeRolePolicyDocument=json.dumps({\n",
    "            'Statement': [{'Action': 'sts:AssumeRole',\n",
    "                           'Effect': 'Allow',\n",
    "                           'Principal': {'Service': 'glue.amazonaws.com'}}],\n",
    "            'Version': '2012-10-17'\n",
    "        })\n",
    "    )\n",
    "except Exception as e:\n",
    "    print(e)"
   ]
  },
  {
   "cell_type": "code",
   "execution_count": null,
   "metadata": {},
   "outputs": [],
   "source": [
    "# Adicionado ao Role as politicas de acesso ao S3 \n",
    "putRolePolicyS3 = iam.put_role_policy(\n",
    "    RoleName=EC2_IAM_ROLE_NAME,\n",
    "    PolicyName='s3Access',\n",
    "    PolicyDocument=json.dumps(s3_access)\n",
    ")\n",
    "\n",
    "print(putRolePolicyS3)"
   ]
  },
  {
   "cell_type": "code",
   "execution_count": null,
   "metadata": {},
   "outputs": [],
   "source": [
    "# Adicionado ao Role as politicas de acesso ao Glue \n",
    "putRolePolicyS3 = iam.put_role_policy(\n",
    "    RoleName=EC2_IAM_ROLE_NAME,\n",
    "    PolicyName='GlueAccess',\n",
    "    PolicyDocument=json.dumps(glue_access)\n",
    ")\n",
    "\n",
    "print(putRolePolicyS3)"
   ]
  }
 ],
 "metadata": {
  "kernelspec": {
   "display_name": "data-eng-env",
   "language": "python",
   "name": "python3"
  },
  "language_info": {
   "codemirror_mode": {
    "name": "ipython",
    "version": 3
   },
   "file_extension": ".py",
   "mimetype": "text/x-python",
   "name": "python",
   "nbconvert_exporter": "python",
   "pygments_lexer": "ipython3",
   "version": "3.9.6"
  }
 },
 "nbformat": 4,
 "nbformat_minor": 2
}
