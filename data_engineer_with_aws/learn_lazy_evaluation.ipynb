{
 "cells": [
  {
   "cell_type": "code",
   "execution_count": null,
   "metadata": {},
   "outputs": [],
   "source": [
    "# EAGER (immediate execution) - using [] or () doesn't matter\n",
    "eager_list = [x for x in range(10)]     # List comprehension - builds immediately\n",
    "eager_tuple = tuple(x for x in range(10))  # Also builds immediately\n",
    "\n",
    "# LAZY (execution when needed) - uses () with generator expression\n",
    "lazy_generator = (x for x in range(10))  # Nothing is built yet!\n",
    "\n",
    "# Let's prove it:\n",
    "import sys\n",
    "\n",
    "# Compare sizes\n",
    "print(f\"Eager list size: {sys.getsizeof(eager_list)} bytes\")\n",
    "print(f\"Eager tuple size: {sys.getsizeof(eager_tuple)} bytes\")\n",
    "print(f\"Lazy generator size: {sys.getsizeof(lazy_generator)} bytes\")\n",
    "\n",
    "# Let's see when things are actually computed:\n",
    "print(\"\\nLazy generator in action:\")\n",
    "for num in lazy_generator:\n",
    "    print(f\"Now generating: {num}\")  # Numbers are generated one at a time\n",
    "\n",
    "# Another example to make it super clear:\n",
    "def show_creation():\n",
    "    print(\"Creating large range...\")\n",
    "    \n",
    "    # Eager - prints message instantly for all numbers\n",
    "    eager_list = [x for x in range(5)]\n",
    "    print(\"Eager list created!\")\n",
    "    \n",
    "    # Lazy - doesn't print anything yet\n",
    "    lazy_gen = (x for x in range(5))\n",
    "    print(\"Lazy generator created - but no numbers generated yet!\")\n",
    "    \n",
    "    print(\"\\nNow using lazy generator:\")\n",
    "    for num in lazy_gen:\n",
    "        print(f\"Generated: {num}\")  # Only now are numbers generated\n",
    "\n",
    "show_creation()"
   ]
  },
  {
   "cell_type": "code",
   "execution_count": 1,
   "metadata": {},
   "outputs": [],
   "source": [
    "# EAGER (immediate execution) - using [] or () doesn't matter\n",
    "eager_list = [x for x in range(10)]     # List comprehension - builds immediately\n",
    "eager_tuple = tuple(x for x in range(10))  # Also builds immediately\n",
    "\n",
    "# LAZY (execution when needed) - uses () with generator expression\n",
    "lazy_generator = (x for x in range(10))  # Nothing is built yet!"
   ]
  },
  {
   "cell_type": "code",
   "execution_count": 2,
   "metadata": {},
   "outputs": [
    {
     "name": "stdout",
     "output_type": "stream",
     "text": [
      "Eager list size: 184 bytes\n",
      "Eager tuple size: 120 bytes\n",
      "Lazy generator size: 112 bytes\n"
     ]
    }
   ],
   "source": [
    "import sys\n",
    "\n",
    "# Compare sizes\n",
    "print(f\"Eager list size: {sys.getsizeof(eager_list)} bytes\")\n",
    "print(f\"Eager tuple size: {sys.getsizeof(eager_tuple)} bytes\")\n",
    "print(f\"Lazy generator size: {sys.getsizeof(lazy_generator)} bytes\")"
   ]
  },
  {
   "cell_type": "code",
   "execution_count": 3,
   "metadata": {},
   "outputs": [
    {
     "name": "stdout",
     "output_type": "stream",
     "text": [
      "\n",
      "Lazy generator in action:\n",
      "Now generating: 0\n",
      "Now generating: 1\n",
      "Now generating: 2\n",
      "Now generating: 3\n",
      "Now generating: 4\n",
      "Now generating: 5\n",
      "Now generating: 6\n",
      "Now generating: 7\n",
      "Now generating: 8\n",
      "Now generating: 9\n"
     ]
    }
   ],
   "source": [
    "# Let's see when things are actually computed:\n",
    "print(\"\\nLazy generator in action:\")\n",
    "for num in lazy_generator:\n",
    "    print(f\"Now generating: {num}\")  # Numbers are generated one at a time"
   ]
  },
  {
   "cell_type": "code",
   "execution_count": 10,
   "metadata": {},
   "outputs": [],
   "source": [
    "# Another example to make it super clear:\n",
    "def show_creation():\n",
    "    print(\"Creating large range...\")\n",
    "    \n",
    "    # Eager - prints message instantly for all numbers\n",
    "    eager_list = [x for x in range(5)]\n",
    "    print(\"Eager list created!\")\n",
    "    \n",
    "    # Lazy - doesn't print anything yet\n",
    "    lazy_gen = (x for x in range(5))\n",
    "    print(\"Lazy generator created - but no numbers generated yet!\")\n",
    "    \n",
    "    print(\"\\nNow using lazy generator:\")\n",
    "    for num in lazy_gen:\n",
    "        print(f\"Generated: {num}\")  # Only now are numbers generated\n",
    "\n"
   ]
  },
  {
   "cell_type": "code",
   "execution_count": 11,
   "metadata": {},
   "outputs": [
    {
     "name": "stdout",
     "output_type": "stream",
     "text": [
      "Creating large range...\n",
      "Eager list created!\n",
      "Lazy generator created - but no numbers generated yet!\n",
      "\n",
      "Now using lazy generator:\n",
      "Generated: 0\n",
      "Generated: 1\n",
      "Generated: 2\n",
      "Generated: 3\n",
      "Generated: 4\n",
      "None\n"
     ]
    }
   ],
   "source": [
    "print(show_creation())\n",
    "\n",
    "\n"
   ]
  }
 ],
 "metadata": {
  "kernelspec": {
   "display_name": "data-eng-env",
   "language": "python",
   "name": "python3"
  },
  "language_info": {
   "codemirror_mode": {
    "name": "ipython",
    "version": 3
   },
   "file_extension": ".py",
   "mimetype": "text/x-python",
   "name": "python",
   "nbconvert_exporter": "python",
   "pygments_lexer": "ipython3",
   "version": "3.9.6"
  }
 },
 "nbformat": 4,
 "nbformat_minor": 2
}
